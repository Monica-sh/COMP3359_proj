{
 "cells": [
  {
   "cell_type": "code",
   "execution_count": null,
   "id": "efb8c0e3",
   "metadata": {},
   "outputs": [],
   "source": [
    "import os\n",
    "import sys\n",
    "import inspect\n",
    "\n",
    "currentdir = os.path.dirname(os.path.abspath(inspect.getfile(inspect.currentframe())))\n",
    "parentdir = os.path.dirname(currentdir)\n",
    "sys.path.insert(0,parentdir) \n",
    "\n",
    "from data import load_env\n",
    "\n",
    "import torch\n",
    "import torch.nn as nn\n",
    "import torch.optim as optim\n",
    "import numpy as np\n",
    "import pandas as pd\n",
    "\n",
    "from os import path\n",
    "from datetime import datetime, timedelta\n",
    "\n",
    "import matplotlib.pyplot as plt\n",
    "\n",
    "# imports from captum library\n",
    "from captum.attr import LayerConductance, LayerActivation, LayerIntegratedGradients\n",
    "from captum.attr import IntegratedGradients, DeepLift, GradientShap, NoiseTunnel, FeatureAblation"
   ]
  },
  {
   "cell_type": "code",
   "execution_count": null,
   "id": "170716ca",
   "metadata": {},
   "outputs": [],
   "source": [
    "start_date = '2014-01-01'\n",
    "model_path = '../runs/invest_runs/1/policy_final.pth'\n",
    "\n",
    "os.environ['KMP_DUPLICATE_LIB_OK']='True'"
   ]
  },
  {
   "cell_type": "markdown",
   "id": "cd0b9a2f",
   "metadata": {},
   "source": [
    "# Understanding Data"
   ]
  },
  {
   "cell_type": "code",
   "execution_count": null,
   "id": "01f3e831",
   "metadata": {},
   "outputs": [],
   "source": [
    "env = load_env(parentdir, norm_state=False)\n",
    "env.reset(date=start_date)\n",
    "raw_X = env.data_df[:365]"
   ]
  },
  {
   "cell_type": "markdown",
   "id": "68b41704",
   "metadata": {},
   "source": [
    "## Plot curves of each column in raw data"
   ]
  },
  {
   "cell_type": "code",
   "execution_count": null,
   "id": "f9ae34b6",
   "metadata": {},
   "outputs": [],
   "source": [
    "feature_names = list(raw_X.keys())\n",
    "\n",
    "fig, axs = plt.subplots(nrows = 2, ncols=3, figsize=(30, 20))\n",
    "for i, (ax, col) in enumerate(zip(axs.flat, feature_names)):\n",
    "    data_point = raw_X[col]\n",
    "    ax.plot(list(data_point))\n",
    "    \n",
    "    ax.set_title(col)\n",
    "    ax.set_xlabel(\"\")\n",
    "    ax.set_ylabel('')"
   ]
  },
  {
   "cell_type": "code",
   "execution_count": null,
   "id": "27ffec24",
   "metadata": {},
   "outputs": [],
   "source": [
    "env = load_env(parentdir)\n",
    "env.reset(date=\"2014-01-01\")\n",
    "X_norm = env.data_df[:365]"
   ]
  },
  {
   "cell_type": "markdown",
   "id": "ac97d7f1",
   "metadata": {},
   "source": [
    "## Plot curves in each data column after preprocessing"
   ]
  },
  {
   "cell_type": "code",
   "execution_count": null,
   "id": "0818d6cc",
   "metadata": {},
   "outputs": [],
   "source": [
    "feature_names = list(X_norm.keys())\n",
    "\n",
    "fig, axs = plt.subplots(nrows = 2, ncols=3, figsize=(30, 20))\n",
    "for i, (ax, col) in enumerate(zip(axs.flat, feature_names)):\n",
    "    data_point = X_norm[col]\n",
    "    ax.plot(list(data_point))\n",
    "    \n",
    "    ax.set_title(col)\n",
    "    ax.set_xlabel(\"\")\n",
    "    ax.set_ylabel('')"
   ]
  },
  {
   "cell_type": "code",
   "execution_count": null,
   "id": "8ef08e49",
   "metadata": {},
   "outputs": [],
   "source": [
    "model = torch.load(model_path)\n",
    "model"
   ]
  },
  {
   "cell_type": "code",
   "execution_count": null,
   "id": "beb91014",
   "metadata": {},
   "outputs": [],
   "source": [
    "X = torch.tensor(X_norm.to_numpy()).float()\n",
    "action_set = {'sell': 0, 'no-op': 1, 'buy': 2}\n",
    "\n",
    "class MaskedPolicy(nn.Module):\n",
    "    def __init__(self, model, action):\n",
    "        super(MaskedPolicy, self).__init__()\n",
    "        self.action = action\n",
    "        self.model = model\n",
    "    \n",
    "    def forward(self, x):\n",
    "        x = self.model(x)\n",
    "        return x.gather(1, torch.tensor([[self.action] for _ in range(len(x))]))\n",
    "\n",
    "masked_policy = MaskedPolicy(model, action=action_set['sell'])"
   ]
  },
  {
   "cell_type": "code",
   "execution_count": null,
   "id": "236868ad",
   "metadata": {},
   "outputs": [],
   "source": [
    "ig = IntegratedGradients(masked_policy)\n",
    "ig_nt = NoiseTunnel(ig)\n",
    "dl = DeepLift(masked_policy)\n",
    "fa = FeatureAblation(masked_policy)\n",
    "\n",
    "ig_attr_test = ig.attribute(X, n_steps=50)\n",
    "ig_nt_attr_test = ig_nt.attribute(X)\n",
    "dl_attr_test = dl.attribute(X)\n",
    "fa_attr_test = fa.attribute(X)"
   ]
  },
  {
   "cell_type": "code",
   "execution_count": null,
   "id": "1e227760",
   "metadata": {},
   "outputs": [],
   "source": [
    "# prepare attributions for visualization\n",
    "\n",
    "x_axis_data = np.arange(X.shape[1])\n",
    "x_axis_data_labels = list(map(lambda idx: feature_names[idx], x_axis_data))\n",
    "\n",
    "ig_attr_test_sum = ig_attr_test.detach().numpy().sum(0)\n",
    "ig_attr_test_norm_sum = ig_attr_test_sum / np.linalg.norm(ig_attr_test_sum, ord=1)\n",
    "\n",
    "ig_nt_attr_test_sum = ig_nt_attr_test.detach().numpy().sum(0)\n",
    "ig_nt_attr_test_norm_sum = ig_nt_attr_test_sum / np.linalg.norm(ig_nt_attr_test_sum, ord=1)\n",
    "\n",
    "dl_attr_test_sum = dl_attr_test.detach().numpy().sum(0)\n",
    "dl_attr_test_norm_sum = dl_attr_test_sum / np.linalg.norm(dl_attr_test_sum, ord=1)\n",
    "\n",
    "fa_attr_test_sum = fa_attr_test.detach().numpy().sum(0)\n",
    "fa_attr_test_norm_sum = fa_attr_test_sum / np.linalg.norm(fa_attr_test_sum, ord=1)\n",
    "\n",
    "lin_weight = model.fc1.weight[0].detach().numpy()\n",
    "y_axis_lin_weight = lin_weight / np.linalg.norm(lin_weight, ord=1)\n",
    "\n",
    "width = 0.14\n",
    "legends = ['Int Grads', 'Int Grads w/SmoothGrad','DeepLift', 'Feature Ablation', 'Weights']\n",
    "\n",
    "plt.figure(figsize=(20, 10))\n",
    "\n",
    "ax = plt.subplot()\n",
    "ax.set_title('Comparing input feature importances across multiple algorithms and learned weights')\n",
    "ax.set_ylabel('Attributions')\n",
    "\n",
    "FONT_SIZE = 16\n",
    "plt.rc('font', size=FONT_SIZE)            # fontsize of the text sizes\n",
    "plt.rc('axes', titlesize=FONT_SIZE)       # fontsize of the axes title\n",
    "plt.rc('axes', labelsize=FONT_SIZE)       # fontsize of the x and y labels\n",
    "plt.rc('legend', fontsize=FONT_SIZE - 4)  # fontsize of the legend\n",
    "\n",
    "ax.bar(x_axis_data, ig_attr_test_norm_sum, width, align='center', alpha=0.8, color='#eb5e7c')\n",
    "ax.bar(x_axis_data + width, ig_nt_attr_test_norm_sum, width, align='center', alpha=0.7, color='#A90000')\n",
    "ax.bar(x_axis_data + 2 * width, dl_attr_test_norm_sum, width, align='center', alpha=0.6, color='#34b8e0')\n",
    "ax.bar(x_axis_data + 4 * width, fa_attr_test_norm_sum, width, align='center', alpha=1.0, color='#49ba81')\n",
    "ax.bar(x_axis_data + 5 * width, y_axis_lin_weight, width, align='center', alpha=1.0, color='grey')\n",
    "ax.autoscale_view()\n",
    "plt.tight_layout()\n",
    "\n",
    "ax.set_xticks(x_axis_data + 0.5)\n",
    "ax.set_xticklabels(x_axis_data_labels)\n",
    "\n",
    "plt.legend(legends, loc=3)\n",
    "plt.show()"
   ]
  },
  {
   "cell_type": "code",
   "execution_count": null,
   "id": "079909ee",
   "metadata": {},
   "outputs": [],
   "source": []
  }
 ],
 "metadata": {
  "kernelspec": {
   "display_name": "Python 3",
   "language": "python",
   "name": "python3"
  },
  "language_info": {
   "codemirror_mode": {
    "name": "ipython",
    "version": 3
   },
   "file_extension": ".py",
   "mimetype": "text/x-python",
   "name": "python",
   "nbconvert_exporter": "python",
   "pygments_lexer": "ipython3",
   "version": "3.8.8"
  }
 },
 "nbformat": 4,
 "nbformat_minor": 5
}
