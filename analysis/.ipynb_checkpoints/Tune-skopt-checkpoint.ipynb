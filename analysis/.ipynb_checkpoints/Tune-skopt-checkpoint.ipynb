{
 "cells": [
  {
   "cell_type": "code",
   "execution_count": null,
   "id": "4241ab09",
   "metadata": {},
   "outputs": [],
   "source": [
    "%matplotlib inline\n",
    "\n",
    "import glob\n",
    "import os\n",
    "\n",
    "from plot_utils import load_sacred_pickle\n",
    "\n",
    "import cloudpickle\n",
    "import matplotlib.pyplot as plt\n",
    "import numpy as np\n",
    "import pandas as pd\n",
    "import ray\n",
    "import seaborn as sns\n",
    "import json\n",
    "\n",
    "from ray import tune\n",
    "import skopt\n",
    "from skopt.plots import plot_evaluations, plot_objective\n",
    "\n",
    "sns.set(context='notebook', style='darkgrid')\n",
    "\n",
    "ray_tune_dir = '../runs/tune_runs/12/'\n",
    "RUNNING_RAY_TUNE_DIR = os.path.join(ray_tune_dir, 'tune_search')"
   ]
  },
  {
   "cell_type": "code",
   "execution_count": null,
   "id": "1b77023b",
   "metadata": {},
   "outputs": [],
   "source": [
    "search_alg_pattern = os.path.join(RUNNING_RAY_TUNE_DIR, 'search-alg-*.pkl')\n",
    "pickle_paths = glob.glob(search_alg_pattern)\n",
    "if not pickle_paths:\n",
    "    raise IOError(\n",
    "        \"Could not find any matches for skopt state pattern, \"\n",
    "        f\"{search_alg_pattern!r}. Check whether skopt's .pkl file actually \"\n",
    "        f\"exists in RUNNING_RAY_TUNE_DIR={RUNNING_RAY_TUNE_DIR!r}.\")\n",
    "pickle_path, = pickle_paths\n",
    "with open(pickle_path, 'rb') as fp:\n",
    "    _, skopt_alg = load_sacred_pickle(fp)\n",
    "    \n",
    "# If variable names have not been saved and you have to add them back in, you can do something like this:\n",
    "# variable_names = ['foo', 'bar', 'baz', 'spam', 'ham', 'asdf']\n",
    "# for var_name, var in zip(variable_names, skopt_alg.space.dimensions):\n",
    "#     var.name = var_name\n",
    "\n",
    "skopt_res = skopt_alg.get_result()"
   ]
  },
  {
   "cell_type": "code",
   "execution_count": null,
   "id": "960f46be",
   "metadata": {},
   "outputs": [],
   "source": [
    "_ = plot_evaluations(skopt_res)"
   ]
  },
  {
   "cell_type": "code",
   "execution_count": null,
   "id": "ec3e6436",
   "metadata": {},
   "outputs": [],
   "source": [
    "_ = plot_objective(skopt_res)"
   ]
  },
  {
   "cell_type": "code",
   "execution_count": null,
   "id": "2ebd401d",
   "metadata": {},
   "outputs": [],
   "source": [
    "n_results = len(skopt_res.func_vals)\n",
    "sns.distplot(skopt_res.func_vals, rug=True, norm_hist=False, kde=False, bins=10 if n_results >= 20 else None)\n",
    "plt.title(f\"Final avg_reward distribution from {n_results} runs (higher = better)\")\n",
    "plt.xlabel(\"Average reward\")\n",
    "plt.ylabel(\"Frequency\")\n",
    "plt.show()"
   ]
  },
  {
   "cell_type": "code",
   "execution_count": null,
   "id": "b72f6856",
   "metadata": {},
   "outputs": [],
   "source": [
    "# we plot any config that has loss below 'thresh'\n",
    "# (by default, I've made it show the top 10 best configs;\n",
    "# you can change 'thresh' to anything you want)\n",
    "thresh = min(sorted(skopt_res.func_vals)[-5:])\n",
    "good_inds, = np.nonzero(skopt_res.func_vals >= thresh)\n",
    "for conf_num, good_ind in enumerate(good_inds, start=1):\n",
    "    print(\n",
    "        f\"Good config at index {good_ind} ({conf_num}/\"\n",
    "        f\"{len(good_inds)}), thresh {thresh}:\")\n",
    "    # TODO: print function value here too\n",
    "    all_dims = skopt_res.space.dimensions\n",
    "    for dim, value in zip(all_dims, skopt_res.x_iters[good_ind]):\n",
    "        print(f'    {dim.name} = {value}')\n",
    "        \n",
    "print(f'Amalgamated \"good\" configs at thresh {thresh}:')\n",
    "for dim_idx, dimension in enumerate(skopt_res.space.dimensions):\n",
    "    values = [skopt_res.x_iters[i][dim_idx] for i in good_inds]\n",
    "    if isinstance(values[0], float):\n",
    "        values_str = f\"[{', '.join('%.3g' % v for v in values)}]\"\n",
    "    else:\n",
    "        values_str = str(values)\n",
    "    print(f'    {dimension.name} = {values_str}')"
   ]
  },
  {
   "cell_type": "code",
   "execution_count": null,
   "id": "68e14741",
   "metadata": {},
   "outputs": [],
   "source": []
  }
 ],
 "metadata": {
  "kernelspec": {
   "display_name": "Python 3",
   "language": "python",
   "name": "python3"
  },
  "language_info": {
   "codemirror_mode": {
    "name": "ipython",
    "version": 3
   },
   "file_extension": ".py",
   "mimetype": "text/x-python",
   "name": "python",
   "nbconvert_exporter": "python",
   "pygments_lexer": "ipython3",
   "version": "3.8.8"
  }
 },
 "nbformat": 4,
 "nbformat_minor": 5
}
